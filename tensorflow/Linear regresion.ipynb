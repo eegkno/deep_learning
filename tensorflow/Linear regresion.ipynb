{
 "cells": [
  {
   "cell_type": "markdown",
   "metadata": {},
   "source": [
    "# Linear regression"
   ]
  },
  {
   "cell_type": "code",
   "execution_count": 1,
   "metadata": {},
   "outputs": [],
   "source": [
    "# import necessary libraries\n",
    "import tensorflow as tf\n",
    "import numpy as np\n",
    "import matplotlib.pyplot as plt\n",
    "rng = np.random"
   ]
  },
  {
   "cell_type": "code",
   "execution_count": 2,
   "metadata": {
    "scrolled": false
   },
   "outputs": [
    {
     "name": "stdout",
     "output_type": "stream",
     "text": [
      "Training done!\n",
      "Training cost= 2.2402492 W= 1.6078323 b= 1.0582154 \n",
      "\n"
     ]
    },
    {
     "data": {
      "image/png": "[encoded data removed]",
      "text/plain": [
       "<Figure size 432x288 with 1 Axes>"
      ]
     },
     "metadata": {},
     "output_type": "display_data"
    }
   ],
   "source": [
    "# Data\n",
    "X_train = np.asarray([0.86, 0.09, -0.85, 0.87, -0.44, -0.43, -1.10, 0.40, -0.96, 0.17])\n",
    "Y_train = np.asarray([2.49, 0.83, -0.25, 3.10, 0.87, 0.02, -0.12, 1.81, -0.83, 0.43])\n",
    "\n",
    "# Be sure that the vector are not in the form (n,)\n",
    "X_train = X_train.reshape(X_train.shape[0], 1)\n",
    "Y_train = Y_train.reshape(Y_train.shape[0], 1)\n",
    "\n",
    "# Parameters\n",
    "learning_rate = 0.05\n",
    "epochs = 10\n",
    "\n",
    "# Clean the default grap\n",
    "tf.reset_default_graph()\n",
    "\n",
    "# tf Graph Input\n",
    "# define inputs, the data-type is set to float32\n",
    "x = tf.placeholder(tf.float32)\n",
    "y = tf.placeholder(tf.float32)\n",
    "\n",
    "b = tf.Variable(rng.randn(), name=\"bias\")\n",
    "w = tf.Variable(rng.randn(), name=\"weight\")\n",
    "\n",
    "# Construct a linear model\n",
    "y_pred = tf.add(tf.multiply(x, w), b)\n",
    "\n",
    "# Cost function    \n",
    "cost = tf.reduce_sum((y_pred - y) * (y_pred - y))\n",
    "\n",
    "# Gradient Descent to minimize cost\n",
    "optimizer = tf.train.GradientDescentOptimizer(learning_rate).minimize(cost)\n",
    "\n",
    "# Initialize the variables\n",
    "init = tf.global_variables_initializer()\n",
    "\n",
    "## create a session and pass in graph g\n",
    "with tf.Session() as sess:\n",
    "    \n",
    "    # Run the initializer\n",
    "    sess.run(init)\n",
    "    \n",
    "    # Input data in dict form\n",
    "    feed_data = {x:X_train, y:Y_train}\n",
    "    \n",
    "    # Training\n",
    "    for epoch in range(epochs):\n",
    "        _, last_cost, last_w, last_b = sess.run([optimizer, cost, w, b],\n",
    "                         feed_dict=feed_data)\n",
    "    \n",
    "    print('Training done!')\n",
    "    \n",
    "    print(\"Training cost=\", last_cost, \"W=\", last_w, \"b=\", last_b, '\\n')\n",
    "    \n",
    "    # Graphic display\n",
    "    plt.plot(X_train, Y_train, 'ro', label='Original data')\n",
    "    plt.plot(X_train, last_w * X_train + last_b, label='Fitted line')\n",
    "    plt.legend()\n",
    "    plt.show()\n",
    "    "
   ]
  },
  {
   "cell_type": "code",
   "execution_count": 3,
   "metadata": {
    "scrolled": false
   },
   "outputs": [
    {
     "name": "stdout",
     "output_type": "stream",
     "text": [
      "Training done!\n",
      "Training cost= 2.2401588 W= 1.6101694 b= 1.0588137 \n",
      "\n"
     ]
    },
    {
     "data": {
      "image/png": "[encoded data removed]",
      "text/plain": [
       "<Figure size 432x288 with 1 Axes>"
      ]
     },
     "metadata": {},
     "output_type": "display_data"
    }
   ],
   "source": [
    "# Data\n",
    "X_train = np.asarray([0.86, 0.09, -0.85, 0.87, -0.44, -0.43, -1.10, 0.40, -0.96, 0.17])\n",
    "Y_train = np.asarray([2.49, 0.83, -0.25, 3.10, 0.87, 0.02, -0.12, 1.81, -0.83, 0.43])\n",
    "\n",
    "# Be sure that the vector are not in the form (n,)\n",
    "X_train = X_train.reshape(X_train.shape[0], 1)\n",
    "Y_train = Y_train.reshape(Y_train.shape[0], 1)\n",
    "\n",
    "\n",
    "# Parameters\n",
    "learning_rate = 0.05\n",
    "epochs = 20\n",
    "logs_path = './tmp/logs/'\n",
    "\n",
    "# Clean the default grap\n",
    "tf.reset_default_graph()\n",
    "\n",
    "# tf Graph Input\n",
    "# define inputs, the data-type is set to float32\n",
    "x = tf.placeholder(tf.float32)\n",
    "y = tf.placeholder(tf.float32)\n",
    "\n",
    "# Set model weights\n",
    "b = tf.Variable(rng.randn(), name=\"bias\")\n",
    "w = tf.Variable(rng.randn(), name=\"weight\")\n",
    "\n",
    "\n",
    "\n",
    "# Construct model and encapsulating all ops into scopes, making\n",
    "# Tensorboard's Graph visualization more convenient\n",
    "# Construct a linear model\n",
    "with tf.name_scope(\"Model\") as scope:\n",
    "    y_pred = tf.add(tf.multiply(x, w), b)\n",
    "\n",
    "# Cost function    \n",
    "with tf.name_scope('Loss'):\n",
    "    cost = tf.reduce_sum((y_pred - y) * (y_pred - y))\n",
    "\n",
    "# Gradient Descent to minimize cost\n",
    "with tf.name_scope(\"SGD\") as scope:\n",
    "    optimizer = tf.train.GradientDescentOptimizer(learning_rate).minimize(cost)\n",
    "    \n",
    "# Initialize the variables\n",
    "init = tf.global_variables_initializer()\n",
    "\n",
    "# Create summaries\n",
    "tf.summary.scalar(\"loss\", cost)\n",
    "tf.summary.scalar(\"bias\", b)\n",
    "tf.summary.scalar(\"weight\", w)\n",
    "\n",
    "# Merge all summaries into a single op\n",
    "merged_summary_op = tf.summary.merge_all()\n",
    "    \n",
    "## Start training\n",
    "with tf.Session() as sess:\n",
    "    \n",
    "    # Run the initializer\n",
    "    sess.run(init)\n",
    "    \n",
    "    # op to write logs to Tensorboard\n",
    "    writer = tf.summary.FileWriter( logs_path, graph=tf.get_default_graph())\n",
    "    \n",
    "    # Input data in dict form\n",
    "    feed_data = {x:X_train, y:Y_train}\n",
    "    \n",
    "    # Training\n",
    "    for epoch in range(epochs):\n",
    "        \n",
    "        # Run optimization\n",
    "        _, last_cost, last_w, last_b, summary = sess.run([optimizer, cost, w, b, merged_summary_op],\n",
    "                         feed_dict=feed_data)\n",
    "\n",
    "               \n",
    "        # Write logs\n",
    "        writer.add_summary(summary, epoch)\n",
    "    \n",
    "    # Clean writer\n",
    "    writer.flush()\n",
    "    writer.close()\n",
    "    print('Training done!')\n",
    "    \n",
    "    # Print results\n",
    "    print(\"Training cost=\", last_cost, \"W=\", last_w, \"b=\", last_b, '\\n')\n",
    "    \n",
    "\n",
    "    # Graphic display\n",
    "    plt.plot(X_train, Y_train, 'ro', label='Original data')\n",
    "    plt.plot(X_train, last_w * X_train + last_b, label='Fitted line')\n",
    "    plt.legend()\n",
    "    plt.show()"
   ]
  },
  {
   "cell_type": "code",
   "execution_count": null,
   "metadata": {},
   "outputs": [],
   "source": []
  }
 ],
 "metadata": {
  "anaconda-cloud": {},
  "kernelspec": {
   "display_name": "Python 3",
   "language": "python",
   "name": "python3"
  },
  "language_info": {
   "codemirror_mode": {
    "name": "ipython",
    "version": 3
   },
   "file_extension": ".py",
   "mimetype": "text/x-python",
   "name": "python",
   "nbconvert_exporter": "python",
   "pygments_lexer": "ipython3",
   "version": "3.6.6"
  }
 },
 "nbformat": 4,
 "nbformat_minor": 2
}
